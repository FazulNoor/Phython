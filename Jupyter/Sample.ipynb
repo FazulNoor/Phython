{
 "cells": [
  {
   "cell_type": "code",
   "execution_count": 22,
   "id": "badd0228",
   "metadata": {},
   "outputs": [
    {
     "name": "stdout",
     "output_type": "stream",
     "text": [
      "Employee Id: 101 Employee Name: Arun1 Employee Job Title: TL 1001\n",
      "Employee Id: 102 Employee Name: Arun2 Employee Job Title: TL 1002\n",
      "Employee Id: 103 Employee Name: Arun3 Employee Job Title: TL 1003\n",
      "Employee Id: 104 Employee Name: Arun4 Employee Job Title: TL 1004\n",
      "Employee Id: 105 Employee Name: Arun5 Employee Job Title: TL 1005\n",
      "Employee Id: 106 Employee Name: Arun6 Employee Job Title: TL 1006\n",
      "Employee Id: 107 Employee Name: Arun7 Employee Job Title: TL 1007\n",
      "Employee Id: 108 Employee Name: Arun8 Employee Job Title: TL 1008\n",
      "Employee Id: 109 Employee Name: Arun9 Employee Job Title: TL 1009\n",
      "1009\n",
      "1001\n"
     ]
    }
   ],
   "source": [
    "class Employee:\n",
    "#     empId\n",
    "#     empName\n",
    "#     jobTitle\n",
    "    \n",
    "    def __init__(self, empId,empName, jobTitle,salary):\n",
    "        self.empId = empId\n",
    "        self.empName = empName\n",
    "        self.jobTitle = jobTitle\n",
    "        self.salary = salary\n",
    "    \n",
    "# newEmp = Employee(100,'Arun', 'TL')\n",
    "\n",
    "for i in range(1,10):\n",
    "    globals()['newEmp%s' % i] = Employee(100+i,'Arun'+str(i),'TL',1000+i)\n",
    "\n",
    "salary = []\n",
    "for i in range(1,10):\n",
    "    salary.append(globals()['newEmp%s' %i].salary)\n",
    "    print(\"Employee Id:\",globals()['newEmp%s' % i].empId,\"Employee Name:\",globals()['newEmp%s' % i].empName,\n",
    "      \"Employee Job Title:\",globals()['newEmp%s' % i].jobTitle, globals()['newEmp%s' %i].salary)\n",
    "    \n",
    "print(max(salary))\n",
    "print(min(salary))\n"
   ]
  },
  {
   "cell_type": "code",
   "execution_count": null,
   "id": "21fa2e85",
   "metadata": {},
   "outputs": [],
   "source": []
  }
 ],
 "metadata": {
  "kernelspec": {
   "display_name": "Python 3",
   "language": "python",
   "name": "python3"
  },
  "language_info": {
   "codemirror_mode": {
    "name": "ipython",
    "version": 3
   },
   "file_extension": ".py",
   "mimetype": "text/x-python",
   "name": "python",
   "nbconvert_exporter": "python",
   "pygments_lexer": "ipython3",
   "version": "3.9.5"
  }
 },
 "nbformat": 4,
 "nbformat_minor": 5
}
