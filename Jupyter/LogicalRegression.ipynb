{
 "cells": [
  {
   "cell_type": "code",
   "execution_count": null,
   "id": "1982d112",
   "metadata": {},
   "outputs": [],
   "source": [
    "import pandas as pd\n",
    "pd.load_xls()"
   ]
  }
 ],
 "metadata": {
  "kernelspec": {
   "display_name": "Phython",
   "language": "python",
   "name": "phython"
  },
  "language_info": {
   "codemirror_mode": {
    "name": "ipython",
    "version": 3
   },
   "file_extension": ".py",
   "mimetype": "text/x-python",
   "name": "python",
   "nbconvert_exporter": "python",
   "pygments_lexer": "ipython3",
   "version": "3.8.10"
  }
 },
 "nbformat": 4,
 "nbformat_minor": 5
}
